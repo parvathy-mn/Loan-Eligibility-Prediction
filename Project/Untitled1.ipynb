{
 "cells": [
  {
   "cell_type": "code",
   "execution_count": 1,
   "metadata": {},
   "outputs": [],
   "source": [
    "from flask import Flask, request, jsonify, render_template\n",
    "import pickle\n",
    "from sklearn.preprocessing import LabelEncoder, StandardScaler\n",
    "import numpy as np\n",
    "import pandas as pd\n",
    "import matplotlib.pyplot as plt\n",
    "%matplotlib inline\n",
    "app=Flask(__name__)\n"
   ]
  },
  {
   "cell_type": "code",
   "execution_count": 2,
   "metadata": {},
   "outputs": [],
   "source": [
    "model = pickle.load(open('eli.pkl', 'rb'))"
   ]
  },
  {
   "cell_type": "code",
   "execution_count": null,
   "metadata": {},
   "outputs": [
    {
     "name": "stdout",
     "output_type": "stream",
     "text": [
      " * Serving Flask app \"__main__\" (lazy loading)\n",
      " * Environment: production\n",
      "   WARNING: This is a development server. Do not use it in a production deployment.\n",
      "   Use a production WSGI server instead.\n",
      " * Debug mode: off\n"
     ]
    },
    {
     "name": "stderr",
     "output_type": "stream",
     "text": [
      " * Running on http://127.0.0.1:5000/ (Press CTRL+C to quit)\n",
      "127.0.0.1 - - [17/Mar/2023 18:35:03] \"GET / HTTP/1.1\" 200 -\n",
      "127.0.0.1 - - [17/Mar/2023 18:35:28] \"POST /predict HTTP/1.1\" 200 -\n"
     ]
    },
    {
     "name": "stdout",
     "output_type": "stream",
     "text": [
      "[[1.00000000e+00 1.00000000e+00 0.00000000e+00 0.00000000e+00\n",
      "  7.00000000e+00 1.00000000e+00 4.18965474e+00 3.00000000e+03]]\n",
      "1\n"
     ]
    }
   ],
   "source": [
    "def preprocess_input():\n",
    "    \"\"\"\n",
    "    Preprocess the input data for prediction.\n",
    "    \"\"\"\n",
    "    feature1 = request.form['lid']\n",
    "    feature2 = request.form['gender']\n",
    "    feature3 = request.form['marital-status']\n",
    "    feature4 = request.form['dependent']\n",
    "    feature5 = request.form['edu']\n",
    "    feature6 = request.form['self-emp']\n",
    "    feature7 = int(request.form['applicantincome'])\n",
    "    feature8 = int(request.form['coapplicantincome'])\n",
    "    feature9 = int(request.form['loanamount'])\n",
    "    feature10 = request.form['loanamountterm']\n",
    "    feature11 = request.form['cred-hist']\n",
    "    feature12 = request.form['property']\n",
    "    feature13 = np.log(feature9)\n",
    "    feature14= feature7+feature8\n",
    "    feature15= np.log(feature14)\n",
    "    \n",
    "    \n",
    "    # Convert the input features to a numpy array\n",
    "    features = np.array([[feature2, feature3, feature4, feature5, feature10, feature11,feature13, feature14]])\n",
    "    \n",
    "    \"\"\"\"\n",
    "    labelencoder=LabelEncoder()\n",
    "   \n",
    "    for i in range(0,5):\n",
    "        features[:,i]= labelencoder.fit_transform(features[:,i])\n",
    "    \n",
    "    features[:,7]=labelencoder.fit_transform(features[:,7])\n",
    "    \"\"\"\n",
    "    features=features.astype(np.float64)\n",
    "    \"\"\"\"\"\n",
    "    ss=StandardScaler()\n",
    "    features=ss.fit(features)\n",
    "    features=ss.transform(features)\n",
    "    \"\"\"\n",
    "    # Return the preprocessed features\n",
    "    \n",
    "    return features\n",
    "\n",
    "# Create a route for the home page\n",
    "@app.route('/')\n",
    "def home():\n",
    "    \"\"\"\n",
    "    Render the home page.\n",
    "    \"\"\"\n",
    "    return render_template('index.html')\n",
    "\n",
    "# Create a route for the prediction page\n",
    "@app.route('/predict', methods=['POST'])\n",
    "def predict():\n",
    "    \"\"\"\n",
    "    Make a prediction based on the input data.\n",
    "    \"\"\"\n",
    "    features = preprocess_input()\n",
    "    print(features)\n",
    "    output=\"hello\"\n",
    "    # Make a prediction using the loaded model\n",
    "    prediction = model.predict(features)[0]\n",
    "    if (prediction==1):\n",
    "        output=\"You are eligible to take a loan.\"\n",
    "    else:\n",
    "        output=\"You are not eligible to take a loan.\"\n",
    "        \n",
    "    print(prediction)\n",
    "    # Pass the prediction to the template\n",
    "    return render_template('index.html',output=output)\n",
    "\n",
    "\n",
    "\n",
    "\n",
    "if __name__ == '__main__':\n",
    "    # Run the Flask app\n",
    "    app.run()"
   ]
  },
  {
   "cell_type": "code",
   "execution_count": null,
   "metadata": {},
   "outputs": [],
   "source": []
  },
  {
   "cell_type": "code",
   "execution_count": null,
   "metadata": {},
   "outputs": [],
   "source": []
  }
 ],
 "metadata": {
  "kernelspec": {
   "display_name": "Python 3",
   "language": "python",
   "name": "python3"
  },
  "language_info": {
   "codemirror_mode": {
    "name": "ipython",
    "version": 3
   },
   "file_extension": ".py",
   "mimetype": "text/x-python",
   "name": "python",
   "nbconvert_exporter": "python",
   "pygments_lexer": "ipython3",
   "version": "3.7.4"
  }
 },
 "nbformat": 4,
 "nbformat_minor": 2
}
